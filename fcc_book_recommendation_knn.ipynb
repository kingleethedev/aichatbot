{
  "cells": [
    {
      "cell_type": "code",
      "execution_count": null,
      "metadata": {
        "id": "Y1onB6kUvo4Z"
      },
      "outputs": [],
      "source": [
        "# import libraries (you may add additional imports but you may not have to)\n",
        "import pandas as pd\n",
        "import numpy as np\n",
        "from sklearn.neighbors import NearestNeighbors\n",
        "import matplotlib.pyplot as plt\n"
      ]
    },
    {
      "cell_type": "code",
      "execution_count": null,
      "metadata": {
        "id": "iAQGqqO_vo4d"
      },
      "outputs": [],
      "source": [
        "# get data files\n",
        "# Load the ratings data\n",
        "ratings_df = pd.read_csv('BX-Book-Ratings.csv', sep=';', encoding='latin-1')\n",
        "\n",
        "# Load the books data\n",
        "books_df = pd.read_csv('BX-Books.csv', sep=';', encoding='latin-1')\n"
      ]
    },
    {
      "cell_type": "code",
      "execution_count": null,
      "metadata": {
        "id": "NClILWOiEd6Q"
      },
      "outputs": [],
      "source": [
        "\n",
        "# Remove users with less than 200 ratings\n",
        "user_rating_counts = ratings_df['User-ID'].value_counts()\n",
        "users_to_keep = user_rating_counts[user_rating_counts >= 200].index\n",
        "ratings_df = ratings_df[ratings_df['User-ID'].isin(users_to_keep)]\n",
        "\n",
        "# Remove books with less than 100 ratings\n",
        "book_rating_counts = ratings_df['ISBN'].value_counts()\n",
        "books_to_keep = book_rating_counts[book_rating_counts >= 100].index\n",
        "ratings_df = ratings_df[ratings_df['ISBN'].isin(books_to_keep)]\n"
      ]
    },
    {
      "cell_type": "code",
      "execution_count": null,
      "metadata": {
        "id": "xAcXjkCFCh0A"
      },
      "outputs": [],
      "source": [
        "# add your code here - consider creating a new cell for each section of code"
      ]
    },
    {
      "cell_type": "code",
      "execution_count": null,
      "metadata": {
        "id": "f5ZUd-L1SQz7"
      },
      "outputs": [],
      "source": [
        "rating_matrix = ratings_df.pivot_table(index='User-ID', columns='ISBN', values='Book-Rating')\n",
        "rating_matrix = rating_matrix.fillna(0)  # Fill missing ratings with 0\n",
        "\n"
      ]
    },
    {
      "cell_type": "code",
      "execution_count": null,
      "metadata": {
        "id": "jd2SLCh8oxMh"
      },
      "outputs": [],
      "source": [
        "# Fit the KNN model\n",
        "model_knn = NearestNeighbors(metric='cosine', algorithm='brute', n_neighbors=6, n_jobs=-1)\n",
        "model_knn.fit(rating_matrix.T)  # Transpose the matrix so each book is a row\n"
      ]
    },
    {
      "cell_type": "code",
      "source": [
        "def get_recommends(book_title):\n",
        "    # Find the ISBN of the given book title\n",
        "    book_isbn = books_df[books_df['Book-Title'] == book_title]['ISBN'].values[0]\n",
        "\n",
        "    # Find the index of the book in the matrix\n",
        "    book_index = rating_matrix.columns.get_loc(book_isbn)\n",
        "\n",
        "    # Find the nearest neighbors\n",
        "    distances, indices = model_knn.kneighbors(rating_matrix.iloc[:, book_index].values.reshape(1, -1))\n",
        "\n",
        "    # Get the recommended books\n",
        "    recommended_books = []\n",
        "    for i in range(1, len(indices.flatten())):\n",
        "        book_isbn_rec = rating_matrix.columns[indices.flatten()[i]]\n",
        "        book_title_rec = books_df[books_df['ISBN'] == book_isbn_rec]['Book-Title'].values[0]\n",
        "        recommended_books.append([book_title_rec, distances.flatten()[i]])\n",
        "\n",
        "    return [book_title, recommended_books]\n"
      ],
      "metadata": {
        "id": "TKTCQndHX07W"
      },
      "execution_count": null,
      "outputs": []
    },
    {
      "cell_type": "code",
      "source": [
        "recommended_books = get_recommends(\"The Queen of the Damned (Vampire Chronicles (Paperback))\")\n",
        "print(recommended_books)\n"
      ],
      "metadata": {
        "id": "3TUzMlP-X47U"
      },
      "execution_count": null,
      "outputs": []
    },
    {
      "cell_type": "code",
      "source": [
        "# Plot the distribution of ratings\n",
        "plt.hist(ratings_df['Book-Rating'], bins=10, edgecolor='black')\n",
        "plt.title('Distribution of Book Ratings')\n",
        "plt.xlabel('Rating')\n",
        "plt.ylabel('Frequency')\n",
        "plt.show()\n"
      ],
      "metadata": {
        "id": "pilU2758X7Yw"
      },
      "execution_count": null,
      "outputs": []
    }
  ],
  "metadata": {
    "colab": {
      "name": "fcc_book_recommendation_knn.ipynb",
      "provenance": []
    },
    "kernelspec": {
      "display_name": "Python 3",
      "language": "python",
      "name": "python3"
    },
    "language_info": {
      "codemirror_mode": {
        "name": "ipython",
        "version": 3
      },
      "file_extension": ".py",
      "mimetype": "text/x-python",
      "name": "python",
      "nbconvert_exporter": "python",
      "pygments_lexer": "ipython3",
      "version": "3.6.5"
    }
  },
  "nbformat": 4,
  "nbformat_minor": 0
}