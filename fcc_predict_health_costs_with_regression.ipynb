{
  "cells": [
    {
      "cell_type": "markdown",
      "metadata": {
        "id": "view-in-github",
        "colab_type": "text"
      },
      "source": [
        "<a href=\"https://colab.research.google.com/github/kingleethedev/aichatbot/blob/main/fcc_predict_health_costs_with_regression.ipynb\" target=\"_parent\"><img src=\"https://colab.research.google.com/assets/colab-badge.svg\" alt=\"Open In Colab\"/></a>"
      ]
    },
    {
      "cell_type": "code",
      "execution_count": null,
      "metadata": {
        "id": "1rRo8oNqZ-Rj"
      },
      "outputs": [],
      "source": [
        "# Import libraries. You may or may not use all of these.\n",
        "import pandas as pd\n",
        "import numpy as np\n",
        "from sklearn.model_selection import train_test_split\n",
        "from sklearn.preprocessing import LabelEncoder\n",
        "from sklearn.linear_model import LinearRegression\n",
        "from sklearn.metrics import mean_absolute_error\n",
        "import matplotlib.pyplot as plt\n"
      ]
    },
    {
      "cell_type": "code",
      "execution_count": null,
      "metadata": {
        "id": "CiX2FI4gZtTt"
      },
      "outputs": [],
      "source": [
        "\n",
        "# Load the dataset (assuming the dataset is in CSV format)\n",
        "data = pd.read_csv('healthcare_costs.csv')\n"
      ]
    },
    {
      "cell_type": "code",
      "execution_count": null,
      "metadata": {
        "id": "LcopvQh3X-kX"
      },
      "outputs": [],
      "source": []
    },
    {
      "cell_type": "code",
      "execution_count": null,
      "metadata": {
        "id": "Xe7RXH3N3CWU"
      },
      "outputs": [],
      "source": [
        "# Convert categorical columns to numeric (assuming columns like 'sex', 'region', 'smoker' are categorical)\n",
        "label_encoder = LabelEncoder()\n",
        "\n",
        "# Example conversion for a 'sex' column\n",
        "data['sex'] = label_encoder.fit_transform(data['sex'])\n",
        "\n",
        "# You can apply the same transformation to other categorical columns as needed\n",
        "data['smoker'] = label_encoder.fit_transform(data['smoker'])\n",
        "data['region'] = label_encoder.fit_transform(data['region'])\n",
        "\n"
      ]
    },
    {
      "cell_type": "code",
      "source": [
        "# Split the data into features (X) and target (y)\n",
        "X = data.drop(columns=['expenses'])\n",
        "y = data['expenses']\n",
        "\n",
        "# Split into training and testing sets\n",
        "train_dataset, test_dataset, train_labels, test_labels = train_test_split(X, y, test_size=0.2, random_state=42)\n"
      ],
      "metadata": {
        "id": "R8oLzhv8ZMtC"
      },
      "execution_count": null,
      "outputs": []
    },
    {
      "cell_type": "code",
      "source": [
        "# Create a Linear Regression model\n",
        "model = LinearRegression()\n",
        "\n",
        "# Train the model\n",
        "model.fit(train_dataset, train_labels)\n"
      ],
      "metadata": {
        "id": "JbVFtEZpZQAA"
      },
      "execution_count": null,
      "outputs": []
    },
    {
      "cell_type": "code",
      "source": [
        "# Predict on the test dataset\n",
        "predictions = model.predict(test_dataset)\n",
        "\n",
        "# Calculate Mean Absolute Error\n",
        "mae = mean_absolute_error(test_labels, predictions)\n",
        "print(f\"Mean Absolute Error: {mae}\")\n"
      ],
      "metadata": {
        "id": "DTvSuzz8ZRiV"
      },
      "execution_count": null,
      "outputs": []
    },
    {
      "cell_type": "code",
      "source": [
        "# Plot the actual vs predicted expenses\n",
        "plt.scatter(test_labels, predictions)\n",
        "plt.plot([min(test_labels), max(test_labels)], [min(test_labels), max(test_labels)], color='red', lw=2)\n",
        "plt.xlabel('Actual Expenses')\n",
        "plt.ylabel('Predicted Expenses')\n",
        "plt.title('Actual vs Predicted Healthcare Expenses')\n",
        "plt.show()\n"
      ],
      "metadata": {
        "id": "3IYLAiqIZUk7"
      },
      "execution_count": null,
      "outputs": []
    },
    {
      "cell_type": "code",
      "source": [
        "# Use the trained model to make predictions\n",
        "final_predictions = model.predict(test_dataset)\n",
        "\n",
        "# Graph the final results\n",
        "plt.figure(figsize=(10,6))\n",
        "plt.plot(test_labels.values, label='Actual Expenses')\n",
        "plt.plot(final_predictions, label='Predicted Expenses')\n",
        "plt.legend()\n",
        "plt.xlabel('Index')\n",
        "plt.ylabel('Healthcare Expenses')\n",
        "plt.title('Actual vs Predicted Healthcare Costs')\n",
        "plt.show()\n"
      ],
      "metadata": {
        "id": "J9nUYhD0ZWtR"
      },
      "execution_count": null,
      "outputs": []
    }
  ],
  "metadata": {
    "colab": {
      "name": "fcc_predict_health_costs_with_regression.ipynb",
      "private_outputs": true,
      "provenance": [],
      "toc_visible": true,
      "include_colab_link": true
    },
    "kernelspec": {
      "display_name": "Python 3",
      "name": "python3"
    }
  },
  "nbformat": 4,
  "nbformat_minor": 0
}