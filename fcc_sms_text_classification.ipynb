{
  "cells": [
    {
      "cell_type": "code",
      "execution_count": null,
      "metadata": {
        "id": "8RZOuS9LWQvv"
      },
      "outputs": [],
      "source": [
        "import pandas as pd\n",
        "from sklearn.feature_extraction.text import CountVectorizer\n",
        "from sklearn.naive_bayes import MultinomialNB\n",
        "from sklearn.model_selection import train_test_split\n",
        "from sklearn.metrics import accuracy_score\n"
      ]
    },
    {
      "cell_type": "code",
      "execution_count": null,
      "metadata": {
        "id": "lMHwYXHXCar3"
      },
      "outputs": [],
      "source": [
        "# Load the SMS Spam dataset\n",
        "data = pd.read_csv('sms_spam.csv', encoding='latin-1')  # Make sure the file path is correct\n",
        "data = data[['v1', 'v2']]  # Select only the relevant columns: 'v1' is label, 'v2' is the message\n",
        "\n",
        "# Rename columns for convenience\n",
        "data.columns = ['label', 'message']\n"
      ]
    },
    {
      "cell_type": "code",
      "execution_count": null,
      "metadata": {
        "id": "g_h508FEClxO"
      },
      "outputs": [],
      "source": []
    },
    {
      "cell_type": "code",
      "execution_count": null,
      "metadata": {
        "id": "zOMKywn4zReN"
      },
      "outputs": [],
      "source": []
    },
    {
      "cell_type": "code",
      "execution_count": null,
      "metadata": {
        "id": "J9tD9yACG6M9"
      },
      "outputs": [],
      "source": [
        "# Convert labels from 'ham'/'spam' to binary values (0 for ham, 1 for spam)\n",
        "data['label'] = data['label'].map({'ham': 0, 'spam': 1})\n",
        "\n",
        "# Split the data into train and test sets (80% train, 20% test)\n",
        "X_train, X_test, y_train, y_test = train_test_split(data['message'], data['label'], test_size=0.2, random_state=42)\n",
        "\n",
        "# Convert the text messages to features using CountVectorizer\n",
        "vectorizer = CountVectorizer(stop_words='english')\n",
        "X_train_vectorized = vectorizer.fit_transform(X_train)\n",
        "X_test_vectorized = vectorizer.transform(X_test)\n"
      ]
    },
    {
      "cell_type": "code",
      "source": [
        "# Create a Naive Bayes classifier\n",
        "model = MultinomialNB()\n",
        "\n",
        "# Train the model with the training data\n",
        "model.fit(X_train_vectorized, y_train)\n"
      ],
      "metadata": {
        "id": "f60yrSIQaTIJ"
      },
      "execution_count": null,
      "outputs": []
    },
    {
      "cell_type": "code",
      "execution_count": null,
      "metadata": {
        "id": "Dxotov85SjsC"
      },
      "outputs": [],
      "source": [
        "# Make predictions on the test set\n",
        "y_pred = model.predict(X_test_vectorized)\n",
        "\n",
        "# Calculate the accuracy of the model\n",
        "accuracy = accuracy_score(y_test, y_pred)\n",
        "print(f\"Model accuracy: {accuracy}\")\n",
        "\n"
      ]
    },
    {
      "cell_type": "code",
      "source": [
        "def predict_message(message):\n",
        "    # Vectorize the input message\n",
        "    message_vectorized = vectorizer.transform([message])\n",
        "\n",
        "    # Predict the class (0 for ham, 1 for spam)\n",
        "    prediction = model.predict(message_vectorized)\n",
        "\n",
        "    # Get the probability for 'ham' and 'spam'\n",
        "    prob = model.predict_proba(message_vectorized)\n",
        "\n",
        "    # Return a list: [probability of ham, 'ham'/'spam']\n",
        "    return [prob[0][0], 'ham'] if prediction == 0 else [prob[0][1], 'spam']\n"
      ],
      "metadata": {
        "id": "pOtcE897abNA"
      },
      "execution_count": null,
      "outputs": []
    },
    {
      "cell_type": "code",
      "source": [
        "# Test the function with a sample message\n",
        "print(predict_message(\"Free money, claim your prize now!\"))\n",
        "print(predict_message(\"Hey, are we meeting tomorrow?\"))\n"
      ],
      "metadata": {
        "id": "Tm3tR-RJaeLN"
      },
      "execution_count": null,
      "outputs": []
    }
  ],
  "metadata": {
    "colab": {
      "name": "fcc_sms_text_classification.ipynb",
      "private_outputs": true,
      "provenance": []
    },
    "kernelspec": {
      "display_name": "Python 3",
      "name": "python3"
    },
    "language_info": {}
  },
  "nbformat": 4,
  "nbformat_minor": 0
}